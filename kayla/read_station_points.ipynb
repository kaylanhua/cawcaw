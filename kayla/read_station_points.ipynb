{
 "cells": [
  {
   "cell_type": "code",
   "execution_count": 2,
   "metadata": {},
   "outputs": [
    {
     "name": "stdout",
     "output_type": "stream",
     "text": [
      "df loaded:  (4014, 8)\n"
     ]
    }
   ],
   "source": [
    "import pandas as pd\n",
    "from geopy.distance import geodesic\n",
    "\n",
    "# Read the CSV file\n",
    "df = pd.read_csv('StationPoints.csv')\n",
    "POINTS = 50\n",
    "\n",
    "london_center = (51.5074, -0.1278)\n",
    "\n",
    "def is_within_dist(point1, point2):\n",
    "    return geodesic(point1, point2).meters < 300\n",
    "\n",
    "def is_within_two_miles_of_london(point):\n",
    "    return geodesic(point, london_center).miles <= 2\n",
    "\n",
    "print(\"df loaded: \", df.shape)\n",
    "\n",
    "filtered_points = []\n",
    "for index, row in df.iterrows():\n",
    "    if len(filtered_points) >= POINTS:\n",
    "        break\n",
    "    point = (row['Lat'], row['Lon'])\n",
    "    if is_within_two_miles_of_london(point) and not any(is_within_dist(point, (p['Lat'], p['Lon'])) for p in filtered_points):\n",
    "        filtered_points.append(row)\n",
    "\n",
    "filtered_df = pd.DataFrame(filtered_points)\n",
    "filtered_df.to_csv(f'stations_{POINTS}.csv', index=False)"
   ]
  },
  {
   "cell_type": "code",
   "execution_count": 8,
   "metadata": {},
   "outputs": [],
   "source": [
    "import folium\n",
    "\n",
    "# Create a map centered around the average latitude and longitude of the filtered points\n",
    "map_center = [filtered_df['Lat'].mean(), filtered_df['Lon'].mean()]\n",
    "station_map = folium.Map(location=map_center, zoom_start=12)\n",
    "\n",
    "# Add points to the map\n",
    "for index, row in filtered_df.iterrows():\n",
    "    folium.Marker([row['Lat'], row['Lon']], popup=row['FriendlyName']).add_to(station_map)\n",
    "\n",
    "# Save the map to an HTML file\n",
    "station_map.save('station_map.html')\n"
   ]
  },
  {
   "cell_type": "code",
   "execution_count": 13,
   "metadata": {},
   "outputs": [],
   "source": [
    "import json\n",
    "\n",
    "# Load the lines data from lines.json\n",
    "with open('lines.json', 'r') as file:\n",
    "    lines_data = json.load(file)\n",
    "\n",
    "# Create a map centered around the average latitude and longitude of the filtered points\n",
    "map_center = [filtered_df['Lat'].mean(), filtered_df['Lon'].mean()]\n",
    "line_map = folium.Map(location=map_center, zoom_start=12)\n",
    "\n",
    "# Overlay the lines on the station map\n",
    "for feature in lines_data['features']:\n",
    "    points = feature['geometry']['coordinates']\n",
    "    # Convert points to (lat, lon) format\n",
    "    lat_lon_points = [(point[1], point[0]) for point in points]\n",
    "    folium.PolyLine(lat_lon_points, color='blue', weight=2.5, opacity=1).add_to(station_map)\n",
    "\n",
    "# Save the updated map to an HTML file\n",
    "station_map.save('station_map_with_lines.html')\n"
   ]
  },
  {
   "cell_type": "code",
   "execution_count": null,
   "metadata": {},
   "outputs": [],
   "source": [
    "# import tensorflow as tf\n",
    "# from tensorflow.keras import layers, models\n",
    "\n",
    "# # Define the CNN model architecture\n",
    "# model = models.Sequential([\n",
    "#     layers.Conv2D(32, (3, 3), activation='relu', input_shape=(height, width, num_channels)),\n",
    "#     layers.MaxPooling2D((2, 2)),\n",
    "#     layers.Conv2D(64, (3, 3), activation='relu'),\n",
    "#     layers.MaxPooling2D((2, 2)),\n",
    "#     layers.Conv2D(128, (3, 3), activation='relu'),\n",
    "#     layers.Flatten(),\n",
    "#     layers.Dense(256, activation='relu'),\n",
    "#     layers.Dense(height * width, activation='sigmoid'),  # Output layer for heat map\n",
    "#     layers.Reshape((height, width))  # Reshape to heat map dimensions\n",
    "# ])\n",
    "\n",
    "# # Compile the model\n",
    "# model.compile(optimizer='adam', loss='mse', metrics=['mae'])\n"
   ]
  },
  {
   "cell_type": "code",
   "execution_count": null,
   "metadata": {},
   "outputs": [],
   "source": [
    "# history = model.fit(train_images, train_heatmaps, epochs=num_epochs, validation_data=(val_images, val_heatmaps))\n"
   ]
  }
 ],
 "metadata": {
  "kernelspec": {
   "display_name": "pje",
   "language": "python",
   "name": "python3"
  },
  "language_info": {
   "codemirror_mode": {
    "name": "ipython",
    "version": 3
   },
   "file_extension": ".py",
   "mimetype": "text/x-python",
   "name": "python",
   "nbconvert_exporter": "python",
   "pygments_lexer": "ipython3",
   "version": "3.12.4"
  }
 },
 "nbformat": 4,
 "nbformat_minor": 2
}
