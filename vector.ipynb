{
 "cells": [
  {
   "cell_type": "code",
   "execution_count": null,
   "metadata": {},
   "outputs": [],
   "source": [
    "import numpy as np\n",
    "import matplotlib.pyplot as plt\n",
    "\n",
    "# Define the anchor point\n",
    "def create_vector(anchor, angle):\n",
    "    anchor_point = np.array(anchor)\n",
    "    angle_degrees = angle \n",
    "    angle_radians = np.deg2rad(angle_degrees)\n",
    "    vector_length = 1  \n",
    "\n",
    "    # Calculate the vector components\n",
    "    vector_x = vector_length * np.cos(angle_radians)\n",
    "    vector_y = vector_length * np.sin(angle_radians)\n",
    "\n",
    "    # Create the vector\n",
    "    vector = np.array([vector_x, vector_y])\n",
    "\n",
    "    # Calculate the endpoint of the vector\n",
    "    endpoint = anchor_point + vector\n",
    "\n",
    "    print(\"Anchor Point:\", anchor_point)\n",
    "    print(\"Vector:\", vector)\n",
    "    print(\"Endpoint:\", endpoint)\n",
    "    \n",
    "    return vector\n"
   ]
  },
  {
   "cell_type": "code",
   "execution_count": null,
   "metadata": {},
   "outputs": [],
   "source": [
    "import matplotlib.pyplot as plt\n",
    "\n",
    "points = [(1, 1), (2, 3), (5, 2), (5, 4)]\n",
    "x, y = zip(*points)\n",
    "\n",
    "plt.scatter(x, y)\n",
    "plt.xlabel('X-axis')\n",
    "plt.ylabel('Y-axis')\n",
    "plt.title('Scatter Plot of Points')\n",
    "plt.show()"
   ]
  },
  {
   "cell_type": "code",
   "execution_count": null,
   "metadata": {},
   "outputs": [],
   "source": [
    "anchor = (1,1)\n",
    "angle = 45\n",
    "v = create_vector(anchor, angle)\n"
   ]
  }
 ],
 "metadata": {
  "language_info": {
   "name": "python"
  }
 },
 "nbformat": 4,
 "nbformat_minor": 2
}
